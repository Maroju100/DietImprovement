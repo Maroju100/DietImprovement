{
 "cells": [
  {
   "cell_type": "markdown",
   "metadata": {
    "slideshow": {
     "slide_type": "-"
    }
   },
   "source": [
    "# Using Machine Learning in Hybrid Recommendation System for Diet Improvement Based on Health and Taste"
   ]
  },
  {
   "cell_type": "markdown",
   "metadata": {},
   "source": [
    "## Yiren Qu"
   ]
  },
  {
   "cell_type": "markdown",
   "metadata": {},
   "source": [
    "### Abstract\n",
    "Recommendation systems are used everywhere today, such as for online shopping or Netflix videos. The use of these systems necessitates the ability to predict the taste of food effectively. In addition, other food concerns, such as food safety and nutritional value have become more important than before. With these thoughts, a novel diet improvement system, which is based on a recommendation system using hybrid matrix decomposition and K-nearest neighborhood algorithms, is proposed in this paper. The need to minimize the error of prediction in terms of taste and obtain a healthier prediction, required the evaluation of a combination of different algorithms and also required different components of algorithms to be changed to determine the most accurate way of improving the diet. The results of an additional psychological study on induced motivation were incorporated into the system to develop a method to generate a model for each user to enable them to make the transition from tasty food to tasty and healthy food. The system contributes a new hybrid optimized recommendation system based on novel system construction.\n"
   ]
  },
  {
   "cell_type": "markdown",
   "metadata": {},
   "source": [
    "#### Problem:\n",
    "    Food, similar to online advertisement services, the prediction of the prices of products, and the weather forecast, is one of the most important major components in people’s lives and has become the focus of development of a number of computer applications by that would enable information analysis. Under modern pressure, people seem to lose concern about their own eating. In the near future, personal data of preferred food habits will connect to restaurants, home computers, and mobile devices including cars. People eating at restaurants will receive immediate information containing food recommendations based on their personal health condition and an optimized taste model. In a long term, the recommendation system would enable people to specify their own settings to make their diets healthier and easy to accept by using the induced motivation method, recommending tasty food to give user a buffer time to get used to it.\n",
    "\n",
    "#### Goal: \n",
    "    This system is to find a solution to recommend food that is both healthy and tasty for users with the hope that, in the long term, the diet may become healthier because of the average summation of taste and health by the personal model. Also, this system will be built on the base of a traditional recommendation system. It will also be developed in both time efficiency and accuracy of the prediction.\n"
   ]
  },
  {
   "cell_type": "markdown",
   "metadata": {},
   "source": [
    "#### Program Language Selection:\n",
    "Python 3  \n",
    "\n",
    "##### External Library of Python:\n",
    "- Numpy        - For Numeric Calculation and Quick Data Analysis\n",
    "- Pandas(Python Data Analysis Library) - It is a new and great library for big data analysis."
   ]
  },
  {
   "cell_type": "code",
   "execution_count": 1,
   "metadata": {
    "collapsed": true
   },
   "outputs": [],
   "source": [
    "import math\n",
    "import numpy as np\n",
    "import pandas as pd"
   ]
  },
  {
   "cell_type": "markdown",
   "metadata": {},
   "source": [
    "### Problem statement\n",
    "This system aims to find a solution to recommend food that is both healthy and tasty for users with the hope that, in the long term, the diet may become healthier because of the average summation of taste and health by the personal model. \n",
    "Specifically, assume there are $N_{u}$  users and $ N_{f}$ foods, given a set of training data, which is a set of triples containing columns: user id, food id, and ratings, define the $ \\mathrm{{A}}_{u,f} $ \"user-food matrix\" \"containing\"  only known food ratings and $B_{u,f} $matrix as:\n",
    "\n",
    " $$ {\\mathrm{A}}_{u,f}=\\left[ \\begin{array}{ccc}\n",
    "{ID}_u & {ID}_f & R_{u,f} \\\\ \n",
    "\\vdots  & \\vdots  & \\vdots  \\end{array}\n",
    "\\right]\\mathrm{\\ \\ \\ \\ size\\ of\\ A\\ is\\ }\\left(3,N_a\\right),\\ in\\ which\\ N_a\\le N_u\\times N_f $$\n",
    "\n",
    "$$ B_{u,f}=\\left( \\begin{array}{ccc}\n",
    "R_{u1,f1} & \\cdots  & R_{u1,fi} \\\\ \n",
    "\\vdots  & \\ddots  & \\vdots  \\\\ \n",
    "R_{ui,f1} & \\cdots  & R_{ui,f1} \\end{array}\n",
    "\\right)\\ \\ \\ \\ size\\ of\\ B\\ is\\ \\left(N_u,N_f\\right) $$\n",
    "\n",
    "The first task is to predict all the users’ ratings on given foods based on the training set, in this case the known food ratings set. In this problem, each rating is an integer between 1 and 10, representing from unlike to like, and the goal is to minimize the root mean square error (RMSE) of the results of the testing sets containing unknown ratings of food. The training set, error and RMSE, specifically, are defines as:\n",
    "$$ S_{Test}=\\left(\\left[ \\begin{array}{cc}\n",
    "{ID}_u & {ID}_f \\end{array}\n",
    "\\right],\\cdots \\right)\\ ,\\ in\\ which\\ {ID}_u,{ID}_f\\in A_{u,f}\\ and\\ R_{u,f}\\notin A_{u,f} $$\n",
    "$$E_{u,f}=R_{u,f}-P_{u,f}$$,\n",
    "$$ RMSE=\\sqrt{\\frac{1}{\\left|S_{Test}\\right|}\\sum_{\\left(u,f\\right)\\in S_{Test}}{{E_{u,f}}^2}}\n",
    "$$ \n",
    "where $ {\\left|S_{Test}\\right|} $ is its cardinality, $ R_{u,f}$is the true rating, and $P_{u,f}$ is the predicted rating based on the recommendation system. As paper [1] on evaluating recommendation systems argues, RMSE is popular and highly accurate in expressing the performance of a recommendation system.\n",
    "\n",
    "The second task is to generate a health score based on the comparison between users’ needs in terms of basic nutrition and food nutrition. In this problem, each health score is an integer between 1 and 10 and the goal is to sort the predicted food rating list after obtaining the average summation of the health score and predicted taste score. Specifically, define the health score, result score, and recommended food list as: \n",
    "$$ L_{{u,P}_f}=\\left[ \\begin{array}{cc}\n",
    "{ID}_f & P_{u,f} \\\\ \n",
    "\\vdots  & \\vdots  \\end{array}\n",
    "\\right]\\ \\ \\left(u,f\\right)\\in \\ S_{Test}\\ and\\ A_{{u,P}_f}\\ is\\ a\\ descending\\ sorted\\ list\\ by\\ P_{u,f}$$\n",
    "$$H_{u,f}=\\sum_{\\left(u,f\\right)\\in }{\\frac{h_{f,i}}{h_{u,i}}\\times a_i}\\ \\ \\left(u,f\\in \\ L_{{u,P}_f}\\right)$$\n",
    "$$L_{u,Result}=\\ \\left[P_{u,f}\\times a_{u,t}+H_{u,f}\\times a_{u,h},\\cdots \\right]\\ \\left(u,f\\right)\\in \\ S_{Test}\n",
    "$$\n",
    "where$ L_{{u,P}_f}$ is a descending sorted list of tuples of predicted food scores, $h_{f,i} $is the nutritional value of food items, $h_{u,i}$ is the nutritional needs of users, $a_{u,i}$ is the weight of each nutritional component in the weighted summation, and $(a_{u,t},a_{u,h})$ are the weights according to the induced motivation model controlling combination of tasty and healthy components to make users easy to accept.\n",
    "\n",
    "\n",
    "\n"
   ]
  },
  {
   "cell_type": "markdown",
   "metadata": {},
   "source": [
    "### import files"
   ]
  },
  {
   "cell_type": "code",
   "execution_count": 2,
   "metadata": {
    "collapsed": true
   },
   "outputs": [],
   "source": [
    "#load food csv\n",
    "def foodcsv():\n",
    "    foodcsv = pd.read_csv('E:/project/main/DRS/DRS/data/food.csv', index_col=0, )\n",
    "    return foodcsv\n",
    "# load score.csv\n",
    "def scoredata():\n",
    "    scorecsv = pd.read_csv('E:/project/main/DRS/DRS/data/score_mod.csv', index_col=0, )\n",
    "    return scorecsv\n",
    "def scoredata_original():\n",
    "    scorecsv = pd.read_csv('E:/project/main/DRS/DRS/data/score.csv', index_col=0, )\n",
    "    return scorecsv\n",
    "\n"
   ]
  },
  {
   "cell_type": "markdown",
   "metadata": {},
   "source": [
    "### Show Data set Examples"
   ]
  },
  {
   "cell_type": "code",
   "execution_count": 5,
   "metadata": {
    "collapsed": false
   },
   "outputs": [
    {
     "data": {
      "text/html": [
       "<div>\n",
       "<table border=\"1\" class=\"dataframe\">\n",
       "  <thead>\n",
       "    <tr style=\"text-align: right;\">\n",
       "      <th></th>\n",
       "      <th>name</th>\n",
       "      <th>type</th>\n",
       "      <th>calories</th>\n",
       "      <th>fat</th>\n",
       "      <th>totalcarbs</th>\n",
       "      <th>sodium</th>\n",
       "      <th>protein</th>\n",
       "      <th>special</th>\n",
       "    </tr>\n",
       "    <tr>\n",
       "      <th>foodid</th>\n",
       "      <th></th>\n",
       "      <th></th>\n",
       "      <th></th>\n",
       "      <th></th>\n",
       "      <th></th>\n",
       "      <th></th>\n",
       "      <th></th>\n",
       "      <th></th>\n",
       "    </tr>\n",
       "  </thead>\n",
       "  <tbody>\n",
       "    <tr>\n",
       "      <th>1</th>\n",
       "      <td>Cheese Pizza</td>\n",
       "      <td>1</td>\n",
       "      <td>277</td>\n",
       "      <td>10</td>\n",
       "      <td>36</td>\n",
       "      <td>565</td>\n",
       "      <td>12</td>\n",
       "      <td>veg</td>\n",
       "    </tr>\n",
       "    <tr>\n",
       "      <th>3</th>\n",
       "      <td>Pepperoni Pizza</td>\n",
       "      <td>1</td>\n",
       "      <td>285</td>\n",
       "      <td>10</td>\n",
       "      <td>36</td>\n",
       "      <td>640</td>\n",
       "      <td>12</td>\n",
       "      <td>0</td>\n",
       "    </tr>\n",
       "  </tbody>\n",
       "</table>\n",
       "</div>"
      ],
      "text/plain": [
       "                   name  type  calories  fat  totalcarbs  sodium  protein  \\\n",
       "foodid                                                                      \n",
       "1          Cheese Pizza     1       277   10          36     565       12   \n",
       "3       Pepperoni Pizza     1       285   10          36     640       12   \n",
       "\n",
       "       special  \n",
       "foodid          \n",
       "1          veg  \n",
       "3            0  "
      ]
     },
     "execution_count": 5,
     "metadata": {},
     "output_type": "execute_result"
    }
   ],
   "source": [
    "foodcsv()[[\"name\",\"type\",\"calories\",\"fat\",\"totalcarbs\",\"sodium\",\"protein\",\"special\"]].head(2)"
   ]
  },
  {
   "cell_type": "code",
   "execution_count": 59,
   "metadata": {
    "collapsed": false
   },
   "outputs": [
    {
     "data": {
      "text/html": [
       "<div>\n",
       "<table border=\"1\" class=\"dataframe\">\n",
       "  <thead>\n",
       "    <tr style=\"text-align: right;\">\n",
       "      <th></th>\n",
       "      <th>food_id</th>\n",
       "      <th>rating</th>\n",
       "      <th>user_id</th>\n",
       "    </tr>\n",
       "  </thead>\n",
       "  <tbody>\n",
       "    <tr>\n",
       "      <th>0</th>\n",
       "      <td>1</td>\n",
       "      <td>3.75</td>\n",
       "      <td>183</td>\n",
       "    </tr>\n",
       "    <tr>\n",
       "      <th>2</th>\n",
       "      <td>3</td>\n",
       "      <td>3.00</td>\n",
       "      <td>183</td>\n",
       "    </tr>\n",
       "  </tbody>\n",
       "</table>\n",
       "</div>"
      ],
      "text/plain": [
       "   food_id  rating  user_id\n",
       "0        1    3.75      183\n",
       "2        3    3.00      183"
      ]
     },
     "execution_count": 59,
     "metadata": {},
     "output_type": "execute_result"
    }
   ],
   "source": [
    "scoredata().head(2)"
   ]
  },
  {
   "cell_type": "code",
   "execution_count": 60,
   "metadata": {
    "collapsed": false,
    "scrolled": true
   },
   "outputs": [
    {
     "data": {
      "text/html": [
       "<div>\n",
       "<table border=\"1\" class=\"dataframe\">\n",
       "  <thead>\n",
       "    <tr style=\"text-align: right;\">\n",
       "      <th></th>\n",
       "      <th>1</th>\n",
       "      <th>3</th>\n",
       "      <th>4</th>\n",
       "      <th>5</th>\n",
       "      <th>6</th>\n",
       "      <th>7</th>\n",
       "      <th>8</th>\n",
       "      <th>9</th>\n",
       "      <th>10</th>\n",
       "      <th>11</th>\n",
       "      <th>...</th>\n",
       "      <th>48</th>\n",
       "      <th>63</th>\n",
       "      <th>64</th>\n",
       "      <th>60</th>\n",
       "      <th>65</th>\n",
       "      <th>66</th>\n",
       "      <th>70</th>\n",
       "      <th>69</th>\n",
       "      <th>67</th>\n",
       "      <th>68</th>\n",
       "    </tr>\n",
       "  </thead>\n",
       "  <tbody>\n",
       "    <tr>\n",
       "      <th>183</th>\n",
       "      <td>3.750000</td>\n",
       "      <td>3.000000</td>\n",
       "      <td>3.0</td>\n",
       "      <td>5</td>\n",
       "      <td>3</td>\n",
       "      <td>7</td>\n",
       "      <td>3</td>\n",
       "      <td>8</td>\n",
       "      <td>5</td>\n",
       "      <td>4</td>\n",
       "      <td>...</td>\n",
       "      <td>NaN</td>\n",
       "      <td>NaN</td>\n",
       "      <td>NaN</td>\n",
       "      <td>NaN</td>\n",
       "      <td>NaN</td>\n",
       "      <td>NaN</td>\n",
       "      <td>NaN</td>\n",
       "      <td>NaN</td>\n",
       "      <td>NaN</td>\n",
       "      <td>NaN</td>\n",
       "    </tr>\n",
       "    <tr>\n",
       "      <th>147</th>\n",
       "      <td>9.666667</td>\n",
       "      <td>6.333333</td>\n",
       "      <td>5.5</td>\n",
       "      <td>7</td>\n",
       "      <td>9</td>\n",
       "      <td>3</td>\n",
       "      <td>9</td>\n",
       "      <td>NaN</td>\n",
       "      <td>10</td>\n",
       "      <td>NaN</td>\n",
       "      <td>...</td>\n",
       "      <td>NaN</td>\n",
       "      <td>NaN</td>\n",
       "      <td>NaN</td>\n",
       "      <td>NaN</td>\n",
       "      <td>NaN</td>\n",
       "      <td>NaN</td>\n",
       "      <td>NaN</td>\n",
       "      <td>NaN</td>\n",
       "      <td>NaN</td>\n",
       "      <td>NaN</td>\n",
       "    </tr>\n",
       "  </tbody>\n",
       "</table>\n",
       "<p>2 rows × 62 columns</p>\n",
       "</div>"
      ],
      "text/plain": [
       "            1         3    4  5  6  7  8   9  10  11 ...  48  63  64  60  65  \\\n",
       "183  3.750000  3.000000  3.0  5  3  7  3   8   5   4 ... NaN NaN NaN NaN NaN   \n",
       "147  9.666667  6.333333  5.5  7  9  3  9 NaN  10 NaN ... NaN NaN NaN NaN NaN   \n",
       "\n",
       "     66  70  69  67  68  \n",
       "183 NaN NaN NaN NaN NaN  \n",
       "147 NaN NaN NaN NaN NaN  \n",
       "\n",
       "[2 rows x 62 columns]"
      ]
     },
     "execution_count": 60,
     "metadata": {},
     "output_type": "execute_result"
    }
   ],
   "source": [
    "scoredata_original().head(2)"
   ]
  },
  {
   "cell_type": "markdown",
   "metadata": {},
   "source": [
    "## System design"
   ]
  },
  {
   "cell_type": "markdown",
   "metadata": {},
   "source": [
    " The diet improvement system is divided into three parts: Cloud data storage and methods, nearline storage and methods, and local storage and methods as depicted in Figure 1.\n",
    "\n",
    "In the system, all databases containing basic information are saved in the Cloud, and specifically, there is a\"user-food matrix\" and Food Dataset containing basic nutritional values, such as number of calories, amount of fat, total amount of carbon dioxides, sodium, and proteins. Nearline, according to [2], is a way of transiting data between Offline and Online. We set up the recommendation system based on a hybrid SVD / KNN method and a database of similar user and similar food generated by the KNN method. The local data consisting of the users’ own goal and the induced motivation model generated by the goal are saved offline and are recalled when generating the final recommended food list. The interaction interface displays all the results received from the recommendation system.\n",
    "<img src=\"figure1.png\" >\n",
    "Figure 1 System Construction"
   ]
  },
  {
   "cell_type": "markdown",
   "metadata": {},
   "source": [
    "### K-nearest neighbor (KNN) algorithm"
   ]
  },
  {
   "cell_type": "markdown",
   "metadata": {},
   "source": [
    "- Euclidean Similarity Function\n",
    "<img src=\"http://cs.carleton.edu/cs_comps/0910/netflixprize/final_results/knn/img/knn/euc.png\">\n",
    "$$ sim\\left(x,y\\right)=\\ \\frac{1}{1+\\sqrt{\\sum{{(x-y)}^2}}}\\ \\ \\ \\ \\ \\ (1)$$"
   ]
  },
  {
   "cell_type": "code",
   "execution_count": 7,
   "metadata": {
    "collapsed": true
   },
   "outputs": [],
   "source": [
    "def euclidean(s1, s2):\n",
    "    \"\"\"Take two pd.Series objects and return their euclidean 'similarity'.\"\"\"\n",
    "    diff = s1 - s2\n",
    "    return 1 / (1 + np.sqrt(np.sum(diff ** 2)))"
   ]
  },
  {
   "cell_type": "markdown",
   "metadata": {},
   "source": [
    "- Cosine Similarity Function\n",
    "<img src=\"http://cs.carleton.edu/cs_comps/0910/netflixprize/final_results/knn/img/knn/cos.png\">\n",
    "\n",
    "$$ sim(x,y) = \\frac{(x . y)}{\\sqrt{(x . x) (y . y)}} $$"
   ]
  },
  {
   "cell_type": "code",
   "execution_count": 8,
   "metadata": {
    "collapsed": true
   },
   "outputs": [],
   "source": [
    "def cosine(s1, s2):\n",
    "    \"\"\"Take two pd.Series objects and return their cosine similarity.\"\"\"\n",
    "    return np.sum(s1 * s2) / np.sqrt(np.sum(s1 ** 2) * np.sum(s2 ** 2))"
   ]
  },
  {
   "cell_type": "markdown",
   "metadata": {},
   "source": [
    "- Pearson correlation\n",
    "\n",
    "$$ sim(x,y) = \\frac{(x - \\bar x).(y - \\bar y)}{\\sqrt{(x - \\bar x).(x - \\bar x) * (y - \\bar y)(y - \\bar y)}} $$"
   ]
  },
  {
   "cell_type": "code",
   "execution_count": 9,
   "metadata": {
    "collapsed": true
   },
   "outputs": [],
   "source": [
    "def pearson(s1, s2):\n",
    "    \"\"\"Take two pd.Series objects and return a pearson correlation.\"\"\"\n",
    "    s1_c = s1 - s1.mean()\n",
    "    s2_c = s2 - s2.mean()\n",
    "    return np.sum(s1_c * s2_c) / np.sqrt(np.sum(s1_c ** 2) * np.sum(s2_c ** 2))"
   ]
  },
  {
   "cell_type": "code",
   "execution_count": 16,
   "metadata": {
    "collapsed": false
   },
   "outputs": [],
   "source": [
    "def knn(user_id,food_id):\n",
    "    scorecsv_mod = scoredata()\n",
    "    all_user_profiles = scorecsv_mod.pivot_table('rating', index='food_id', columns='user_id')\n",
    "    user_condition = scorecsv_mod.user_id != user_id\n",
    "    food_condition = scorecsv_mod.food_id == food_id\n",
    "    ratings_by_others = scorecsv_mod.loc[user_condition & food_condition]\n",
    "    # pivot table of other user's score of one food(I chose the most input food)\n",
    "    if ratings_by_others.empty:\n",
    "        return pd.DataFrame()\n",
    "\n",
    "    ratings_by_others.set_index('user_id', inplace=True)\n",
    "    their_ids = ratings_by_others.index\n",
    "    their_profiles = all_user_profiles[their_ids]\n",
    "    user_profile = all_user_profiles[user_id]\n",
    "    sims = their_profiles.apply(lambda profile: pearson(profile, user_profile), axis=0) # apply cosine function\n",
    "    sims = sims.to_frame().sort_values(by=0, axis=0, ascending=False)\n",
    "    sims.rename(columns={0:food_id},inplace=True)\n",
    "    sims=sims.head(13)\n",
    "    return sims\n",
    "def knnf(food_id,user_id):    #K-food\n",
    "    scorecsv = scoredata()\n",
    "    all_food_profiles = scorecsv.pivot_table('rating', index='user_id', columns='food_id')\n",
    "    user_condition = scorecsv.user_id == user_id\n",
    "    food_condition = scorecsv.food_id != food_id\n",
    "    ratings_by_others = scorecsv.loc[user_condition & food_condition]\n",
    "    # using having most input user 183 to generate\n",
    "    if ratings_by_others.empty:\n",
    "        return pd.DataFrame()\n",
    "    ratings_by_others.set_index('food_id', inplace=True)\n",
    "    their_ids = ratings_by_others.index\n",
    "   \n",
    "    their_profiles = all_food_profiles[their_ids]\n",
    "    food_profile = all_food_profiles[food_id]\n",
    "    sims = their_profiles.apply(lambda profile: pearson(profile, food_profile), axis=0)\n",
    "    sims = sims.to_frame().sort_values(by=0, axis=0, ascending=False)\n",
    "    sims=sims.head(13)\n",
    "    return sims"
   ]
  },
  {
   "cell_type": "code",
   "execution_count": 38,
   "metadata": {
    "collapsed": false
   },
   "outputs": [
    {
     "data": {
      "text/html": [
       "<div>\n",
       "<table border=\"1\" class=\"dataframe\">\n",
       "  <thead>\n",
       "    <tr style=\"text-align: right;\">\n",
       "      <th></th>\n",
       "      <th>3</th>\n",
       "    </tr>\n",
       "    <tr>\n",
       "      <th>user_id</th>\n",
       "      <th></th>\n",
       "    </tr>\n",
       "  </thead>\n",
       "  <tbody>\n",
       "    <tr>\n",
       "      <th>92</th>\n",
       "      <td>0.707107</td>\n",
       "    </tr>\n",
       "    <tr>\n",
       "      <th>192</th>\n",
       "      <td>0.476190</td>\n",
       "    </tr>\n",
       "    <tr>\n",
       "      <th>168</th>\n",
       "      <td>0.436436</td>\n",
       "    </tr>\n",
       "    <tr>\n",
       "      <th>58</th>\n",
       "      <td>0.316640</td>\n",
       "    </tr>\n",
       "    <tr>\n",
       "      <th>17</th>\n",
       "      <td>0.272772</td>\n",
       "    </tr>\n",
       "  </tbody>\n",
       "</table>\n",
       "</div>"
      ],
      "text/plain": [
       "                3\n",
       "user_id          \n",
       "92       0.707107\n",
       "192      0.476190\n",
       "168      0.436436\n",
       "58       0.316640\n",
       "17       0.272772"
      ]
     },
     "execution_count": 38,
     "metadata": {},
     "output_type": "execute_result"
    }
   ],
   "source": [
    "knn(68,3).head()"
   ]
  },
  {
   "cell_type": "code",
   "execution_count": 23,
   "metadata": {
    "collapsed": false
   },
   "outputs": [
    {
     "data": {
      "text/html": [
       "<div>\n",
       "<table border=\"1\" class=\"dataframe\">\n",
       "  <thead>\n",
       "    <tr style=\"text-align: right;\">\n",
       "      <th></th>\n",
       "      <th>0</th>\n",
       "    </tr>\n",
       "    <tr>\n",
       "      <th>food_id</th>\n",
       "      <th></th>\n",
       "    </tr>\n",
       "  </thead>\n",
       "  <tbody>\n",
       "    <tr>\n",
       "      <th>3</th>\n",
       "      <td>0.524233</td>\n",
       "    </tr>\n",
       "    <tr>\n",
       "      <th>13</th>\n",
       "      <td>0.394883</td>\n",
       "    </tr>\n",
       "    <tr>\n",
       "      <th>6</th>\n",
       "      <td>0.371358</td>\n",
       "    </tr>\n",
       "    <tr>\n",
       "      <th>5</th>\n",
       "      <td>0.365304</td>\n",
       "    </tr>\n",
       "    <tr>\n",
       "      <th>59</th>\n",
       "      <td>0.304019</td>\n",
       "    </tr>\n",
       "  </tbody>\n",
       "</table>\n",
       "</div>"
      ],
      "text/plain": [
       "                0\n",
       "food_id          \n",
       "3        0.524233\n",
       "13       0.394883\n",
       "6        0.371358\n",
       "5        0.365304\n",
       "59       0.304019"
      ]
     },
     "execution_count": 23,
     "metadata": {},
     "output_type": "execute_result"
    }
   ],
   "source": [
    "knnf(1,183).head()"
   ]
  },
  {
   "cell_type": "code",
   "execution_count": 21,
   "metadata": {
    "collapsed": false
   },
   "outputs": [
    {
     "name": "stdout",
     "output_type": "stream",
     "text": [
      "10 loops, best of 3: 105 ms per loop\n",
      "10 loops, best of 3: 22.3 ms per loop\n"
     ]
    }
   ],
   "source": [
    "%timeit -n10 knn(1,1)\n",
    "%timeit -n10 knnf(1,1)"
   ]
  },
  {
   "cell_type": "markdown",
   "metadata": {},
   "source": [
    "### Pure KNN Method to predict foods' scores"
   ]
  },
  {
   "cell_type": "code",
   "execution_count": 24,
   "metadata": {
    "collapsed": true
   },
   "outputs": [],
   "source": [
    "class CollabEuclideanReco:\n",
    "    \"\"\" Collaborative filtering using a custom sim(u,u'). \"\"\"\n",
    "\n",
    "    def learn(self):\n",
    "        \"\"\" Prepare datastructures for estimation. \"\"\"\n",
    "        scorecsv = scoredata()\n",
    "        self.all_user_profiles = scorecsv.pivot_table('rating', index='food_id', columns='user_id')\n",
    "        self.all_food_profiles = scorecsv.pivot_table('rating', index='user_id', columns='food_id')\n",
    "\n",
    "    def estimate(self, user_id, food_id):\n",
    "        \"\"\" Ratings weighted by correlation similarity. \"\"\"\n",
    "        scorecsv = scoredata()\n",
    "\n",
    "        user_condition = scorecsv.user_id != user_id\n",
    "        food_condition = scorecsv.food_id == food_id\n",
    "        ratings_by_others = scorecsv.loc[user_condition & food_condition]\n",
    "        if ratings_by_others.empty:\n",
    "            return 5.5\n",
    "\n",
    "        ratings_by_others.set_index('user_id', inplace=True)\n",
    "        their_ids = ratings_by_others.index\n",
    "        their_ratings = ratings_by_others.rating\n",
    "        their_profiles = self.all_user_profiles[their_ids]\n",
    "        user_profile = self.all_user_profiles[user_id]\n",
    "        sims = their_profiles.apply(lambda profile: pearson(profile, user_profile), axis=0)\n",
    "        ratings_sims = pd.DataFrame({'sim': sims, 'rating': their_ratings})\n",
    "        ratings_sims = ratings_sims[ratings_sims.sim > 0]\n",
    "\n",
    "        if ratings_sims.empty:\n",
    "            userest = their_ratings.mean()\n",
    "        else:\n",
    "            b = ratings_sims.sort_values(by=\"sim\", axis=0, ascending=False)\n",
    "            b = b.head(13)\n",
    "            userest = np.average(b.rating, weights=b.sim)\n",
    "\n",
    "        user_condition = scorecsv.user_id == user_id\n",
    "        food_condition = scorecsv.food_id != food_id\n",
    "        ratings_by_others = scorecsv.loc[user_condition & food_condition]\n",
    "        if ratings_by_others.empty:\n",
    "            return 6\n",
    "\n",
    "        ratings_by_others.set_index('food_id', inplace=True)\n",
    "        their_ids = ratings_by_others.index\n",
    "        their_ratings = ratings_by_others.rating\n",
    "        their_profiles = self.all_food_profiles[their_ids]\n",
    "        food_profile = self.all_food_profiles[food_id]\n",
    "        sims = their_profiles.apply(lambda profile: pearson(profile, food_profile), axis=0)\n",
    "        ratings_sims = pd.DataFrame({'sim': sims, 'rating': their_ratings})\n",
    "        ratings_sims = ratings_sims[ratings_sims.sim > 0]\n",
    "        if ratings_sims.empty:\n",
    "            return (userest + their_ratings.mean()) / 2\n",
    "        else:\n",
    "            c = ratings_sims.sort_values(by=\"sim\", axis=0, ascending=False)\n",
    "            c = c.head(13)\n",
    "        return (userest + np.average(c.rating, weights=c.sim)) / 2"
   ]
  },
  {
   "cell_type": "code",
   "execution_count": 51,
   "metadata": {
    "collapsed": false
   },
   "outputs": [
    {
     "data": {
      "text/plain": [
       "6.9498260677054446"
      ]
     },
     "execution_count": 51,
     "metadata": {},
     "output_type": "execute_result"
    }
   ],
   "source": [
    "rec=CollabEuclideanReco()\n",
    "rec.learn()\n",
    "rec.estimate(64,19)"
   ]
  },
  {
   "cell_type": "markdown",
   "metadata": {},
   "source": [
    "##  Single value decomposition SVD"
   ]
  },
  {
   "cell_type": "markdown",
   "metadata": {},
   "source": [
    "$$Matrix\\ B=\\left( \\begin{array}{ccc}\n",
    "R_{u1,f1} & \\cdots  & R_{u1,f} \\\\ \n",
    "\\vdots  & \\ddots  & \\vdots  \\\\ \n",
    "R_{u,f1} & \\cdots  & R_{u,f} \\end{array}\n",
    "\\right)\\ \\ \\ \\approx \\ \\ \\left( \\begin{array}{cc}\n",
    "R_{u1,k1} &  \\begin{array}{cc}\n",
    "R_{u1,k2} & \\cdots  \\end{array}\n",
    " \\\\ \n",
    " \\begin{array}{c}\n",
    "R_{u2,k1} \\\\ \n",
    "\\vdots  \\end{array}\n",
    " &  \\begin{array}{cc}\n",
    " \\begin{array}{c}\n",
    "R_{u2,k2} \\\\ \n",
    "\\vdots  \\end{array}\n",
    " &  \\begin{array}{c}\n",
    "\\cdots  \\\\ \n",
    "R_{u,k} \\end{array}\n",
    " \\end{array}\n",
    " \\end{array}\n",
    "\\right)\\ \\ \\times\\ \\ {\\left( \\begin{array}{cc}\n",
    "R_{k1,f1} &  \\begin{array}{cc}\n",
    "R_{k1,f2} & \\cdots  \\end{array}\n",
    " \\\\ \n",
    " \\begin{array}{c}\n",
    "R_{k2,f1} \\\\ \n",
    "\\vdots  \\end{array}\n",
    " &  \\begin{array}{c}\n",
    " \\begin{array}{cc}\n",
    "R_{k2,f2} & \\cdots  \\end{array}\n",
    " \\\\ \n",
    " \\begin{array}{cc}\n",
    "\\vdots  & R_{k,f} \\end{array}\n",
    " \\end{array}\n",
    " \\end{array}\n",
    "\\right)}^{Transpose}\n",
    "$$"
   ]
  },
  {
   "cell_type": "markdown",
   "metadata": {},
   "source": [
    "$$B = UV^{T}$$\n",
    "$$\n",
    "U = \\left(\n",
    "\\begin{array}{ccc}\n",
    " u_{00} & u_{01} & u_{02}  \\\\\n",
    " u_{10} & u_{11} & u_{12}  \\\\\n",
    " u_{20} & u_{21} & u_{22}  \\\\\n",
    " u_{30} & u_{31} & u_{32}  \\\\  \n",
    " u_{40} & u_{41} & u_{42} \\\\  \n",
    " u_{50} & u_{51} & u_{52}  \\\\ \n",
    " u_{60} & u_{61} & u_{62}  \\\\\n",
    " u_{70} & u_{71} & u_{72}  \\\\\n",
    "\\end{array} \n",
    "\\right) \\, \\text{and } V = \\left(\n",
    "\\begin{array}{cccccccccc}\n",
    " v_{00}  & v_{01} & v_{02} & v_{03} & v_{04} &v_{05} & v_{06} & v_{07} & v_{08} & v_{09} \\\\\n",
    " v_{10}  & v_{11} & v_{12} & v_{13} & v_{14} &v_{15} & v_{16} & v_{17} & v_{18} & v_{19} \\\\\n",
    " v_{20}  & v_{01} & v_{02} & v_{23} & v_{24} &v_{25} & v_{26} & v_{07} & v_{28} & v_{29} \\\\\n",
    "\\end{array}\n",
    "\\right)\n",
    "$$"
   ]
  },
  {
   "cell_type": "markdown",
   "metadata": {},
   "source": [
    "#### Using KNN model to scale down the input array"
   ]
  },
  {
   "cell_type": "code",
   "execution_count": 28,
   "metadata": {
    "collapsed": true
   },
   "outputs": [],
   "source": [
    "def knn_array(f,u):\n",
    "    R = scoredata().pivot_table('rating', index='user_id', columns='food_id').fillna(0)\n",
    "    a = list(knnf(f,u).index)\n",
    "    b = list(knn(u,f).index)\n",
    "    a.append(f)\n",
    "    b.append(u)\n",
    "    RC = R.iloc[R.index.isin(b)]\n",
    "    RT = R.T\n",
    "    RT = RT.iloc[RT.index.astype(float).isin(a)]\n",
    "    RO = RC[RT.index]\n",
    "    R = np.array(RO)\n",
    "    return R,RO"
   ]
  },
  {
   "cell_type": "markdown",
   "metadata": {},
   "source": [
    "- Example  User -6 and food -19"
   ]
  },
  {
   "cell_type": "code",
   "execution_count": 50,
   "metadata": {
    "collapsed": false
   },
   "outputs": [
    {
     "data": {
      "text/html": [
       "<div>\n",
       "<table border=\"1\" class=\"dataframe\">\n",
       "  <thead>\n",
       "    <tr style=\"text-align: right;\">\n",
       "      <th>food_id</th>\n",
       "      <th>9</th>\n",
       "      <th>11</th>\n",
       "      <th>15</th>\n",
       "      <th>18</th>\n",
       "      <th>19</th>\n",
       "      <th>21</th>\n",
       "      <th>27</th>\n",
       "      <th>34</th>\n",
       "    </tr>\n",
       "    <tr>\n",
       "      <th>user_id</th>\n",
       "      <th></th>\n",
       "      <th></th>\n",
       "      <th></th>\n",
       "      <th></th>\n",
       "      <th></th>\n",
       "      <th></th>\n",
       "      <th></th>\n",
       "      <th></th>\n",
       "    </tr>\n",
       "  </thead>\n",
       "  <tbody>\n",
       "    <tr>\n",
       "      <th>18</th>\n",
       "      <td>9</td>\n",
       "      <td>0</td>\n",
       "      <td>7</td>\n",
       "      <td>9</td>\n",
       "      <td>7</td>\n",
       "      <td>0</td>\n",
       "      <td>0</td>\n",
       "      <td>0</td>\n",
       "    </tr>\n",
       "    <tr>\n",
       "      <th>20</th>\n",
       "      <td>4</td>\n",
       "      <td>0</td>\n",
       "      <td>5</td>\n",
       "      <td>4</td>\n",
       "      <td>3</td>\n",
       "      <td>0</td>\n",
       "      <td>0</td>\n",
       "      <td>0</td>\n",
       "    </tr>\n",
       "    <tr>\n",
       "      <th>40</th>\n",
       "      <td>0</td>\n",
       "      <td>0</td>\n",
       "      <td>7</td>\n",
       "      <td>0</td>\n",
       "      <td>7</td>\n",
       "      <td>0</td>\n",
       "      <td>0</td>\n",
       "      <td>0</td>\n",
       "    </tr>\n",
       "    <tr>\n",
       "      <th>64</th>\n",
       "      <td>10</td>\n",
       "      <td>6</td>\n",
       "      <td>10</td>\n",
       "      <td>9</td>\n",
       "      <td>0</td>\n",
       "      <td>6</td>\n",
       "      <td>3</td>\n",
       "      <td>8</td>\n",
       "    </tr>\n",
       "    <tr>\n",
       "      <th>80</th>\n",
       "      <td>10</td>\n",
       "      <td>0</td>\n",
       "      <td>10</td>\n",
       "      <td>10</td>\n",
       "      <td>10</td>\n",
       "      <td>0</td>\n",
       "      <td>0</td>\n",
       "      <td>0</td>\n",
       "    </tr>\n",
       "  </tbody>\n",
       "</table>\n",
       "</div>"
      ],
      "text/plain": [
       "food_id  9   11  15  18  19  21  27  34\n",
       "user_id                                \n",
       "18        9   0   7   9   7   0   0   0\n",
       "20        4   0   5   4   3   0   0   0\n",
       "40        0   0   7   0   7   0   0   0\n",
       "64       10   6  10   9   0   6   3   8\n",
       "80       10   0  10  10  10   0   0   0"
      ]
     },
     "execution_count": 50,
     "metadata": {},
     "output_type": "execute_result"
    }
   ],
   "source": [
    "R,RO=knn_array(19,64)\n",
    "RO.head()"
   ]
  },
  {
   "cell_type": "code",
   "execution_count": 43,
   "metadata": {
    "collapsed": true
   },
   "outputs": [],
   "source": [
    "import numpy\n",
    "def matrix_factorization(u, f, steps=3500, alpha=0.0003, beta=0.02):\n",
    "    R, RO = knn_array(f, u)\n",
    "    N = len(R)\n",
    "    M = len(R[0])\n",
    "    K = 4\n",
    "    P = numpy.random.rand(N, K)\n",
    "    Q = numpy.random.rand(M, K)\n",
    "    Q = Q.T\n",
    "    for step in range(steps):\n",
    "        for i in range(len(R)):\n",
    "            for j in range(len(R[i])):\n",
    "                if R[i][j] > 0:\n",
    "                    eij = R[i][j] - numpy.dot(P[i, :], Q[:, j])\n",
    "                    for k in range(K):\n",
    "                        P[i][k] = P[i][k] + alpha * (2 * eij * Q[k][j] - beta * P[i][k])\n",
    "                        Q[k][j] = Q[k][j] + alpha * (2 * eij * P[i][k] - beta * Q[k][j])\n",
    "        eR = numpy.dot(P, Q)\n",
    "        e = 0\n",
    "        for i in range(len(R)):\n",
    "            for j in range(len(R[i])):\n",
    "                if R[i][j] > 0:\n",
    "                    e = e + pow(R[i][j] - numpy.dot(P[i, :], Q[:, j]), 2)\n",
    "                    for k in range(K):\n",
    "                        e += (beta / 2) * (pow(P[i][k], 2) + pow(Q[k][j], 2))\n",
    "        if e < 0.001:\n",
    "            break\n",
    "    Rpred = numpy.dot(P, Q)\n",
    "    scorepred = pd.DataFrame(Rpred[0:, 0:], index=RO.index, columns=RO.columns)\n",
    "    try:\n",
    "        temp=scorepred.loc[u].loc[f]\n",
    "        if temp>0:\n",
    "            \n",
    "            return temp\n",
    "        else:\n",
    "            return 0\n",
    "    except:\n",
    "        print(u, f, \"error\")\n",
    "        return 5.78"
   ]
  },
  {
   "cell_type": "code",
   "execution_count": 49,
   "metadata": {
    "collapsed": false
   },
   "outputs": [
    {
     "data": {
      "text/plain": [
       "10.150741312505179"
      ]
     },
     "execution_count": 49,
     "metadata": {},
     "output_type": "execute_result"
    }
   ],
   "source": [
    "matrix_factorization(64,19)"
   ]
  },
  {
   "cell_type": "markdown",
   "metadata": {},
   "source": [
    "- real score of user-64 food-19"
   ]
  },
  {
   "cell_type": "code",
   "execution_count": 58,
   "metadata": {
    "collapsed": false
   },
   "outputs": [
    {
     "data": {
      "text/plain": [
       "10.0"
      ]
     },
     "execution_count": 58,
     "metadata": {},
     "output_type": "execute_result"
    }
   ],
   "source": [
    "realsurvey_64 = pd.read_csv(\"data/survey/recfood/ID64.csv\",index_col=0)\n",
    "realsurvey_64.loc[19][\"score\"]"
   ]
  },
  {
   "cell_type": "markdown",
   "metadata": {},
   "source": [
    "### Induced Motivation Model (IMM) based on custom goal"
   ]
  },
  {
   "cell_type": "markdown",
   "metadata": {},
   "source": [
    "The health score of food is different for different users and even on different days when the aim is to complete a dietary goal or keeping a healthy diet. In the process, a user may have a personal goal, such as losing two kilograms of weight in 30 days, gaining four kilograms of weight in 25 days to train muscles. According to [8], the ideal perfect model for a user to gradually change their eating diet and eating choice, specifically, should first recommend tastier but less healthy food to the user, after which it would be possible for them to transit to food which is both tasty and healthy. Thus, we use IMM as the model of weight in the weighted summation to control the combination of tasty and healthy components in order to make user easy to accept. The mathematics model we are using here is a logistic model, with slight changes to the start and end and with logarithmic growth in the middle to satisfy both time efficiency and allow adjustment time for the user to adapt. In the evaluation, we use information of a virtual person to test whether the system meet the needs. The particular person is a normal healthy18 year-old male student with normal activities with an initial height of 180 centimeters and an initial weight of 75 kilograms, and with the goal of losing two kilograms of weight in 30 days. The custom IMM graph is shown in Figure 2:"
   ]
  },
  {
   "cell_type": "markdown",
   "metadata": {},
   "source": [
    "<img src=\"figure_3.png\">"
   ]
  },
  {
   "cell_type": "markdown",
   "metadata": {},
   "source": [
    "## Health score calculation"
   ]
  },
  {
   "cell_type": "markdown",
   "metadata": {},
   "source": [
    "$$ H_{u,f}=\\sum_{\\left(u,f\\right)\\in }{\\frac{h_{f,i}}{h_{u,i}}?a_i}\\ \\ \\left(u,f\\in \\ L_{{u,P}_f}\\right) $$"
   ]
  },
  {
   "cell_type": "code",
   "execution_count": 62,
   "metadata": {
    "collapsed": true
   },
   "outputs": [],
   "source": [
    "def healthscore(user, food):\n",
    "    def dif(a, b):\n",
    "        return math.fabs(float(math.fabs(a - b) / b))\n",
    "\n",
    "    ts = 1  # control differrent type of food and their percentage of calories of a lunch\n",
    "    if food.type == 1:\n",
    "        ts = 0.6\n",
    "    elif food.type == 2:\n",
    "        ts = 0.3\n",
    "    elif food.type == 3:\n",
    "        ts = 0.3\n",
    "    elif food.type == 4:\n",
    "        ts = 0.2\n",
    "    elif food.type == 5:\n",
    "        ts = 0.1\n",
    "    basic = user.getcalorie() / 3 * ts\n",
    "    carbs = ts * basic * 0.45\n",
    "    fatmin = basic * 0.2 / 9.0 * ts\n",
    "    fatmax = basic * 0.35 / 9.0 * ts\n",
    "    sodium = 2400 / 3.0 * ts\n",
    "    if user.age >= 51:\n",
    "        sodium = 1500 / 3 * ts\n",
    "    protein = 0.9 * user.getweight()\n",
    "    if 0.5 <= user.goal <= 1.5:\n",
    "        protein = 1.5 * user.getweight()\n",
    "    elif user.goal > 1.5:\n",
    "        protein = 2.2 * user.getweight()\n",
    "    if \"protein\" in user.special:\n",
    "        protein = user.special[\"protein\"]\n",
    "    protein /= 3\n",
    "    protein *= ts\n",
    "    if food.getfat() in [fatmin, fatmax]:\n",
    "        fat = 0\n",
    "    else:\n",
    "        fat = min(dif(food.getfat(), fatmin), dif(food.getfat(), fatmax))\n",
    "    diff = dif(food.getcal(), basic) * 0.5 + dif(food.gettotalcarbs(), carbs) * 0.1 + dif(food.getsodium(),\n",
    "                                                                                          sodium) * 0.1 + dif(\n",
    "            food.getprotein(), protein) * 0.1 + fat * 0.2\n",
    "    result -= math.pow(7 * diff, 2) + 100\n",
    "    if diff <= 0.05:\n",
    "        result = 100\n",
    "    if result <= 40: result = 40\n",
    "\n",
    "    if veg(user, food): result = 0 # if vegtarian, test food if veg, ifnot return 0\n",
    "    return result\n",
    "\n",
    "def veg(user, food):\n",
    "    if \"veg\" in user.special:\n",
    "        if food.getspecial(\"veg\"):\n",
    "            return True\n",
    "        else:\n",
    "            return False\n",
    "def health(p):# input p user_id list\n",
    "        user = []\n",
    "        food = fooddata()\n",
    "        healthcsv = pd.DataFrame()\n",
    "        for i in p:\n",
    "            user.append(userselect(i))\n",
    "        for i in user:\n",
    "               for j in food:\n",
    "                    if j.foodid not in healthcsv.columns:\n",
    "                        healthcsv[j.foodid] = np.nan\n",
    "                    score = healthscore(i, j)\n",
    "                    healthcsv.loc[i.id, j.foodid] = score\n",
    "        healthcsv = healthcsv.round(3)\n",
    "        return healthcsv"
   ]
  },
  {
   "cell_type": "code",
   "execution_count": 51,
   "metadata": {
    "collapsed": false
   },
   "outputs": [
    {
     "data": {
      "text/html": [
       "<div>\n",
       "<table border=\"1\" class=\"dataframe\">\n",
       "  <thead>\n",
       "    <tr style=\"text-align: right;\">\n",
       "      <th></th>\n",
       "      <th>1</th>\n",
       "      <th>3</th>\n",
       "      <th>4</th>\n",
       "      <th>5</th>\n",
       "      <th>6</th>\n",
       "      <th>7</th>\n",
       "      <th>8</th>\n",
       "      <th>9</th>\n",
       "      <th>10</th>\n",
       "      <th>11</th>\n",
       "      <th>...</th>\n",
       "      <th>63</th>\n",
       "      <th>64</th>\n",
       "      <th>65</th>\n",
       "      <th>66</th>\n",
       "      <th>67</th>\n",
       "      <th>68</th>\n",
       "      <th>69</th>\n",
       "      <th>70</th>\n",
       "      <th>100</th>\n",
       "      <th>101</th>\n",
       "    </tr>\n",
       "  </thead>\n",
       "  <tbody>\n",
       "    <tr>\n",
       "      <th>183</th>\n",
       "      <td>9.1476</td>\n",
       "      <td>9.1117</td>\n",
       "      <td>4</td>\n",
       "      <td>4</td>\n",
       "      <td>4</td>\n",
       "      <td>4</td>\n",
       "      <td>4</td>\n",
       "      <td>8.9055</td>\n",
       "      <td>4</td>\n",
       "      <td>7.9836</td>\n",
       "      <td>...</td>\n",
       "      <td>8.7119</td>\n",
       "      <td>8.7541</td>\n",
       "      <td>7.6183</td>\n",
       "      <td>8.4282</td>\n",
       "      <td>4</td>\n",
       "      <td>4</td>\n",
       "      <td>6.4836</td>\n",
       "      <td>4.2268</td>\n",
       "      <td>8.1613</td>\n",
       "      <td>8.1613</td>\n",
       "    </tr>\n",
       "  </tbody>\n",
       "</table>\n",
       "<p>1 rows × 66 columns</p>\n",
       "</div>"
      ],
      "text/plain": [
       "        1       3    4    5    6    7    8       9    10      11    ...    \\\n",
       "183  9.1476  9.1117    4    4    4    4    4  8.9055    4  7.9836   ...     \n",
       "\n",
       "        63      64      65      66   67   68      69      70      100     101  \n",
       "183  8.7119  8.7541  7.6183  8.4282    4    4  6.4836  4.2268  8.1613  8.1613  \n",
       "\n",
       "[1 rows x 66 columns]"
      ]
     },
     "execution_count": 51,
     "metadata": {},
     "output_type": "execute_result"
    }
   ],
   "source": [
    "_health=health([183]).multiply(.1)\n",
    "_health"
   ]
  },
  {
   "cell_type": "markdown",
   "metadata": {},
   "source": [
    "## Evaluation\n",
    "### Next two algorithms will cause some error so I need to build test & train files and evaluation function to test\n",
    "\n",
    "- There are few useable open-source large-scale datasets on food ratings; therefore, a three-week track lunch survey was sent out on school days. A survey listing all the courses served in the cafeteria was distributed online as a Google form. The survey reviewed participants’ opinions based only on the taste of the foods they ate for lunch during the specified period expressed as a score ranging from 1 to 10. \n",
    "- The resulting matrix generated from the track survey contains responses from 186 people and pertains to 64 courses of food. The respondents consist of 165 students aging from 15 to 18 and 21 adult teachers; thus, the matrix has a size of $(186 \\times 64)$. Matrix A contained a total of 1235 entries. The system was evaluated by randomly dividing the original Matrix A into $Matrix A_{Training}$ and $Set  S_{Test}$. The size of $Matrix A_{Training} $ is $(555\\times3)$ and the cardinality of the Set test is 212. All of the entries were useable and valuable ranging from 1 to 10 as integers.\n"
   ]
  },
  {
   "cell_type": "markdown",
   "metadata": {},
   "source": [
    "#### Create train & test files"
   ]
  },
  {
   "cell_type": "code",
   "execution_count": 7,
   "metadata": {
    "collapsed": true
   },
   "outputs": [],
   "source": [
    "def gene_test_train():\n",
    "    scorecsv = scoredata()\n",
    "    scorecsv = scorecsv.ix[np.random.choice(scorecsv.index, size=800, replace=False)]\n",
    "    user_ids_larger_1 = pd.value_counts(scorecsv.user_id, sort=False) > 1\n",
    "    user_ids_larger_1 = user_ids_larger_1[user_ids_larger_1].index\n",
    "\n",
    "    scorecsv = scorecsv.select(lambda l: scorecsv.loc[l, 'user_id'] in user_ids_larger_1)\n",
    "    assert np.all(scorecsv.user_id.value_counts() > 1)\n",
    "\n",
    "    def assign_to_set(df):\n",
    "        sampled_ids = np.random.choice(df.index,\n",
    "                                       size=np.int64(np.ceil(df.index.size * 0.2)),\n",
    "                                       replace=False)\n",
    "        df.ix[sampled_ids, 'for_testing'] = True\n",
    "        return df\n",
    "\n",
    "    scorecsv['for_testing'] = False\n",
    "    grouped = scorecsv.groupby('user_id', group_keys=False).apply(assign_to_set)\n",
    "    scorecsv_train = scorecsv[grouped.for_testing == False]\n",
    "    scorecsv_test = scorecsv[grouped.for_testing == True]\n",
    "    assert len(scorecsv_train.index & scorecsv_test.index) == 0\n",
    "    scorecsv_train.to_csv('E:/project/main/DRS/DRS/data/test_score/scorecsv_train.csv')\n",
    "    scorecsv_test.to_csv('E:/project/main/DRS/DRS/data/test_score/scorecsv_test.csv')\n",
    "gene_test_train()"
   ]
  },
  {
   "cell_type": "code",
   "execution_count": 64,
   "metadata": {
    "collapsed": true
   },
   "outputs": [],
   "source": [
    "scorecsv_train = pd.read_csv('E:/project/main/DRS/DRS/data/test_score/scorecsv_train.csv',index_col=0)\n",
    "scorecsv_test=pd.read_csv('E:/project/main/DRS/DRS/data/test_score/scorecsv_test.csv',index_col=0)"
   ]
  },
  {
   "cell_type": "code",
   "execution_count": 65,
   "metadata": {
    "collapsed": false
   },
   "outputs": [
    {
     "data": {
      "text/html": [
       "<div>\n",
       "<table border=\"1\" class=\"dataframe\">\n",
       "  <thead>\n",
       "    <tr style=\"text-align: right;\">\n",
       "      <th></th>\n",
       "      <th>food_id</th>\n",
       "      <th>rating</th>\n",
       "      <th>user_id</th>\n",
       "      <th>for_testing</th>\n",
       "    </tr>\n",
       "  </thead>\n",
       "  <tbody>\n",
       "    <tr>\n",
       "      <th>1200</th>\n",
       "      <td>1</td>\n",
       "      <td>5</td>\n",
       "      <td>57</td>\n",
       "      <td>False</td>\n",
       "    </tr>\n",
       "    <tr>\n",
       "      <th>603</th>\n",
       "      <td>63</td>\n",
       "      <td>9</td>\n",
       "      <td>163</td>\n",
       "      <td>False</td>\n",
       "    </tr>\n",
       "    <tr>\n",
       "      <th>332</th>\n",
       "      <td>10</td>\n",
       "      <td>8</td>\n",
       "      <td>62</td>\n",
       "      <td>False</td>\n",
       "    </tr>\n",
       "    <tr>\n",
       "      <th>1123</th>\n",
       "      <td>3</td>\n",
       "      <td>8</td>\n",
       "      <td>59</td>\n",
       "      <td>False</td>\n",
       "    </tr>\n",
       "    <tr>\n",
       "      <th>1064</th>\n",
       "      <td>11</td>\n",
       "      <td>8</td>\n",
       "      <td>131</td>\n",
       "      <td>False</td>\n",
       "    </tr>\n",
       "  </tbody>\n",
       "</table>\n",
       "</div>"
      ],
      "text/plain": [
       "      food_id  rating  user_id for_testing\n",
       "1200        1       5       57       False\n",
       "603        63       9      163       False\n",
       "332        10       8       62       False\n",
       "1123        3       8       59       False\n",
       "1064       11       8      131       False"
      ]
     },
     "execution_count": 65,
     "metadata": {},
     "output_type": "execute_result"
    }
   ],
   "source": [
    "scorecsv_train.head()"
   ]
  },
  {
   "cell_type": "code",
   "execution_count": 66,
   "metadata": {
    "collapsed": false
   },
   "outputs": [
    {
     "data": {
      "text/html": [
       "<div>\n",
       "<table border=\"1\" class=\"dataframe\">\n",
       "  <thead>\n",
       "    <tr style=\"text-align: right;\">\n",
       "      <th></th>\n",
       "      <th>food_id</th>\n",
       "      <th>rating</th>\n",
       "      <th>user_id</th>\n",
       "      <th>for_testing</th>\n",
       "    </tr>\n",
       "  </thead>\n",
       "  <tbody>\n",
       "    <tr>\n",
       "      <th>565</th>\n",
       "      <td>19</td>\n",
       "      <td>4</td>\n",
       "      <td>14</td>\n",
       "      <td>False</td>\n",
       "    </tr>\n",
       "    <tr>\n",
       "      <th>545</th>\n",
       "      <td>48</td>\n",
       "      <td>9</td>\n",
       "      <td>99</td>\n",
       "      <td>False</td>\n",
       "    </tr>\n",
       "    <tr>\n",
       "      <th>372</th>\n",
       "      <td>16</td>\n",
       "      <td>1</td>\n",
       "      <td>18</td>\n",
       "      <td>False</td>\n",
       "    </tr>\n",
       "    <tr>\n",
       "      <th>55</th>\n",
       "      <td>38</td>\n",
       "      <td>7</td>\n",
       "      <td>147</td>\n",
       "      <td>False</td>\n",
       "    </tr>\n",
       "    <tr>\n",
       "      <th>1316</th>\n",
       "      <td>1</td>\n",
       "      <td>1</td>\n",
       "      <td>132</td>\n",
       "      <td>False</td>\n",
       "    </tr>\n",
       "  </tbody>\n",
       "</table>\n",
       "</div>"
      ],
      "text/plain": [
       "      food_id  rating  user_id for_testing\n",
       "565        19       4       14       False\n",
       "545        48       9       99       False\n",
       "372        16       1       18       False\n",
       "55         38       7      147       False\n",
       "1316        1       1      132       False"
      ]
     },
     "execution_count": 66,
     "metadata": {},
     "output_type": "execute_result"
    }
   ],
   "source": [
    "scorecsv_test.head()"
   ]
  },
  {
   "cell_type": "markdown",
   "metadata": {},
   "source": [
    "### Evaluation: \n",
    "\n",
    "- RMSE: $\\sqrt{\\frac{\\sum(\\hat y - y)^2}{n}}$\n"
   ]
  },
  {
   "cell_type": "code",
   "execution_count": 67,
   "metadata": {
    "collapsed": true
   },
   "outputs": [],
   "source": [
    "def compute_rmse(y_pred, y_true):\n",
    "    \"\"\" Compute Root Mean Squared Error. \"\"\"\n",
    "    \n",
    "    return np.sqrt(np.mean(np.power(y_pred - y_true, 2)))"
   ]
  },
  {
   "cell_type": "code",
   "execution_count": 68,
   "metadata": {
    "collapsed": true
   },
   "outputs": [],
   "source": [
    "def evaluate_data():\n",
    "    train = pd.read_csv(\"E:/project/main/DRS/DRS/data/test_score/scorecsv_train.csv\")\n",
    "    test = pd.read_csv(\"E:/project/main/DRS/DRS/data/test_score/scorecsv_test.csv\")\n",
    "    return train, test\n",
    "\n",
    "def evaluate(estimate_f):\n",
    "    \"\"\" RMSE-based predictive performance evaluation with pandas. \"\"\"\n",
    "    scorecsv_train, scorecsv_test = evaluate_data()\n",
    "    ids_to_estimate = zip(scorecsv_test.user_id, scorecsv_test.food_id)\n",
    "    estimated = np.array([estimate_f(u, i) for (u, i) in ids_to_estimate])\n",
    "    real = scorecsv_test.rating.values\n",
    "    return compute_rmse(estimated, real)"
   ]
  },
  {
   "cell_type": "markdown",
   "metadata": {
    "collapsed": true
   },
   "source": [
    "## Evaluation Result"
   ]
  },
  {
   "cell_type": "markdown",
   "metadata": {},
   "source": [
    "### naive program  (using average score)"
   ]
  },
  {
   "cell_type": "code",
   "execution_count": 74,
   "metadata": {
    "collapsed": false
   },
   "outputs": [
    {
     "data": {
      "text/plain": [
       "3.0204758775525073"
      ]
     },
     "execution_count": 74,
     "metadata": {},
     "output_type": "execute_result"
    }
   ],
   "source": [
    "def naive(a,b):\n",
    "    return 5.798\n",
    "evaluate(naive)"
   ]
  },
  {
   "cell_type": "markdown",
   "metadata": {},
   "source": [
    "### pure KNN method"
   ]
  },
  {
   "cell_type": "markdown",
   "metadata": {},
   "source": [
    "<table>\n",
    "<tr>\n",
    "<td></td>\n",
    "<td>Euclidean</td>\n",
    "<td>Cosine</td>\n",
    "<td>Pearson</td>\n",
    "</tr>\n",
    "<tr>\n",
    "<td>RMSE-Using training dataset</td>\n",
    "<td>2.46493</td>\n",
    "<td>2.49006</td>\n",
    "<td>2.54757</td>\n",
    "</tr>\n",
    "<tr>\n",
    "<td>RMSE-Using whole dataset</td>\n",
    "<td>1.85630</td>\n",
    "<td>2.28051</td>\n",
    "<td>1.80219</td>\n",
    "</tr>\n",
    "\n",
    "</table>"
   ]
  },
  {
   "cell_type": "markdown",
   "metadata": {},
   "source": [
    "\n",
    "<img src=\"figure_4.png\">\n",
    "Figure 3 Cross Validation from KNN Algorithm"
   ]
  },
  {
   "cell_type": "markdown",
   "metadata": {},
   "source": [
    "### Regular LFM Algorithm"
   ]
  },
  {
   "cell_type": "markdown",
   "metadata": {},
   "source": [
    "- When Step=3500,α=0.0003 and β=0.02,RMSE = 1.00169"
   ]
  },
  {
   "cell_type": "markdown",
   "metadata": {},
   "source": [
    "- Best Time of Three is 5 min 30 s"
   ]
  },
  {
   "cell_type": "markdown",
   "metadata": {},
   "source": [
    "### Modified LFM Algorithm ( Hybrid method with KNN)"
   ]
  },
  {
   "cell_type": "markdown",
   "metadata": {},
   "source": [
    "#### Test RMSE in different cost function components"
   ]
  },
  {
   "cell_type": "markdown",
   "metadata": {},
   "source": [
    "<img src=\"eva1.png\" >\n",
    "Figure 3 Cross Validation for LFM algorithm: Steps are ranged from 3000 to 7000\n"
   ]
  },
  {
   "cell_type": "markdown",
   "metadata": {},
   "source": [
    "<img src=\"eva2.png\">\n",
    "Figure 4 Cross Validation for LFM algorithm: α is ranging from 0.0001 to 0.001"
   ]
  },
  {
   "cell_type": "markdown",
   "metadata": {},
   "source": [
    "<img src=\"eva3.png\">\n",
    "Figure 5 Cross Validation for LFM algorithm: β is ranging from 0.01 to 0.1"
   ]
  },
  {
   "cell_type": "markdown",
   "metadata": {},
   "source": [
    "- best time of three is 13.1 seconds"
   ]
  },
  {
   "cell_type": "markdown",
   "metadata": {},
   "source": [
    "### Health"
   ]
  },
  {
   "cell_type": "markdown",
   "metadata": {},
   "source": [
    "The virtual user we created to represent normal health conditions is an 18 year-old male student with normal activities and with an initial height of 180 centimeters  and an initial weight 75 kilograms. The goal that was specified for weight loss was 2kilograms in 30 days; thus, his BMR was about 1860.55 and the daily calories needed to satisfy the goal were about 2435 calories per day for about 1000 calories permitted for lunch. In the list of recommended foods, 86.67% of the food was found to satisfy the user’s needs."
   ]
  },
  {
   "cell_type": "markdown",
   "metadata": {},
   "source": [
    "## Real test result"
   ]
  },
  {
   "cell_type": "markdown",
   "metadata": {},
   "source": [
    "This study used a post-survey to receive feedback about the accuracy of the prediction. In the post-survey, the system generated six recommended foods and randomly select six foods from food list. Mixing the order of the total 12 foods, the survey is a blind test in order to make sure people answer this survey without personal influences. There are total 376 foods’ rating received. Among 376 foods, 188 foods are from recommended food list with 63.3% accuracy predicting user’s attitude on foods. The average rating for recommended foods is <span style=\"color:red;\">7.87234</span>, while the average ranting for random foods is <span style=\"color:red;\">4.49468</span>. It clearly shows more foods in the recommended food list are tasty for users. \n"
   ]
  },
  {
   "cell_type": "markdown",
   "metadata": {},
   "source": [
    "## REFFERENCES\n",
    "- [1] Gunawardana, A., & Shani, G. (2015). Evaluating Recommender Systems. Recommender Systems Handbook, 265-308.\n",
    "- [2] Neumann, S., Thum, A., & Böttcher, C. (2012). Nearline acquisition and processing of liquid chromatography-tandem mass spectrometry data. Metabolomics, 9(S1), 84-91.\n",
    "- [3] Sarwar, B., Karypis, G., Konstan, J., & Reidl, J. (2001). Item-based collaborative filtering recommendation algorithms. Proceedings of the Tenth International Conference on World Wide Web - WWW '01.\n",
    "- [4] Matrix Factorization: A Simple Tutorial and Implementation in Python. (n.d.). Retrieved Jan, 2016, from http://www.quuxlabs.com/blog/2010/09/matrix-factorization-a-simple-tutorial-and-implementation-in-python/\n",
    "- [5] Schelter, S., Boden, C., & Markl, V. (2012). Scalable similarity-based neighborhood methods with MapReduce. Proceedings of the Sixth ACM Conference on Recommender Systems - RecSys '12.\n",
    "- [6] Ryza, S., Laserson, U., Owen, S., & Wills, J. (2015). Advanced analytics with Spark. Sebastopol, CA: O'Reilly Media.\n",
    "- [7] Takács, G., Pilászy, I., Németh, B., & Tikk, D. (2008). Matrix factorization and neighbor based algorithms for the netflix prize problem. Proceedings of the 2008 ACM Conference on Recommender Systems - RecSys '08.\n",
    "- [8] Miller, Neal E. \"Motivation and Psychological Stress.\" The Physiological Mechanisms of Motivation (1982): 409-32. Web.\n",
    "- [9] Stephen, Farenga, J., and Ness Daniel. \"Calories, Energy, and the Food You Eat.\" Questia. Web. Feb. 2016. <https://www.questia.com/article/1G1-143734185/calories-energy-and-the-food-you-eat>.\n",
    "- [10] \"Nonessential Nitrogen Supplements And Essential Amino Acid Requirements.\" Nutrition Reviews 21.6 (2009): 183-84. Web.\n"
   ]
  },
  {
   "cell_type": "code",
   "execution_count": null,
   "metadata": {
    "collapsed": true
   },
   "outputs": [],
   "source": []
  }
 ],
 "metadata": {
  "kernelspec": {
   "display_name": "Python 3",
   "language": "python",
   "name": "python3"
  },
  "language_info": {
   "codemirror_mode": {
    "name": "ipython",
    "version": 3
   },
   "file_extension": ".py",
   "mimetype": "text/x-python",
   "name": "python",
   "nbconvert_exporter": "python",
   "pygments_lexer": "ipython3",
   "version": "3.4.4"
  }
 },
 "nbformat": 4,
 "nbformat_minor": 0
}
